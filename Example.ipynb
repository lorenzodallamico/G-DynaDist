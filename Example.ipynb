{
 "cells": [
  {
   "cell_type": "code",
   "execution_count": 1,
   "metadata": {},
   "outputs": [],
   "source": [
    "import pandas as pd\n",
    "import numpy as np\n",
    "from time import time\n",
    "\n",
    "from Package.MatrixDistance import *"
   ]
  },
  {
   "cell_type": "markdown",
   "metadata": {},
   "source": [
    "# Content\n",
    "\n",
    "In this notebook, we provide a working example of using our distance, with a particular focus on what the input data should look like.\n",
    "\n",
    "## Load the dataset\n",
    "\n",
    "We load a dataset from the ones contained in the `Data` folder. This dataset describes proximity interactions between children in a school context. Its format is composed of five columns\n",
    "* `t`: timestamp of the interaction between $i$ and $j$\n",
    "* `i`: id of the first node\n",
    "* `j`: id of the second node\n",
    "* `C1`: school class `i` belongs to\n",
    "* `C2`: school class `j` belongs to\n",
    "\n",
    "These last two columns are unnecessary when computing the distance and will be discarded.\n",
    "\n",
    "> **Remarks**: \n",
    ">    * In our case, the column `t` is expressed as the number of seconds from an initial time. If it was in a date-time format, it should be converted to the total number of seconds format.\n",
    ">    * in the datasets we considered in the paper, all interactions are undirected, but the distance framework can be applied also to the directed setting as detailed below."
   ]
  },
  {
   "cell_type": "code",
   "execution_count": 5,
   "metadata": {},
   "outputs": [
    {
     "data": {
      "text/html": [
       "<div>\n",
       "<style scoped>\n",
       "    .dataframe tbody tr th:only-of-type {\n",
       "        vertical-align: middle;\n",
       "    }\n",
       "\n",
       "    .dataframe tbody tr th {\n",
       "        vertical-align: top;\n",
       "    }\n",
       "\n",
       "    .dataframe thead th {\n",
       "        text-align: right;\n",
       "    }\n",
       "</style>\n",
       "<table border=\"1\" class=\"dataframe\">\n",
       "  <thead>\n",
       "    <tr style=\"text-align: right;\">\n",
       "      <th></th>\n",
       "      <th>i</th>\n",
       "      <th>j</th>\n",
       "      <th>t</th>\n",
       "    </tr>\n",
       "  </thead>\n",
       "  <tbody>\n",
       "    <tr>\n",
       "      <th>0</th>\n",
       "      <td>26</td>\n",
       "      <td>66</td>\n",
       "      <td>54120</td>\n",
       "    </tr>\n",
       "    <tr>\n",
       "      <th>1</th>\n",
       "      <td>26</td>\n",
       "      <td>66</td>\n",
       "      <td>54140</td>\n",
       "    </tr>\n",
       "    <tr>\n",
       "      <th>2</th>\n",
       "      <td>24</td>\n",
       "      <td>25</td>\n",
       "      <td>54160</td>\n",
       "    </tr>\n",
       "    <tr>\n",
       "      <th>3</th>\n",
       "      <td>100</td>\n",
       "      <td>37</td>\n",
       "      <td>54160</td>\n",
       "    </tr>\n",
       "    <tr>\n",
       "      <th>4</th>\n",
       "      <td>37</td>\n",
       "      <td>57</td>\n",
       "      <td>54180</td>\n",
       "    </tr>\n",
       "  </tbody>\n",
       "</table>\n",
       "</div>"
      ],
      "text/plain": [
       "     i   j      t\n",
       "0   26  66  54120\n",
       "1   26  66  54140\n",
       "2   24  25  54160\n",
       "3  100  37  54160\n",
       "4   37  57  54180"
      ]
     },
     "execution_count": 5,
     "metadata": {},
     "output_type": "execute_result"
    }
   ],
   "source": [
    "# load the dataset and consider only the relevant columns\n",
    "df = pd.read_csv('Data/SPData/highschool_2011.csv', sep = '\\t', header = None, names = ['t', 'i', 'j', 'C1', 'C2'])\n",
    "df = df[['i', 'j', 't']]\n",
    "df.head()"
   ]
  },
  {
   "cell_type": "markdown",
   "metadata": {},
   "source": [
    "## Pre-process the time column\n",
    "\n",
    "Here, we need to make two operations needed to maintain a high efficiency in the implementation. \n",
    "\n",
    "* Set the smallest entry of the `t` column to $0$\n",
    "* Let all entries of the `t` column be multiples of the time resolution\n",
    "\n",
    "\n",
    "In this dataset, the temporal resolution is $20~s$, so $t_{\\rm res}$ can be any value larger or equal to $20$."
   ]
  },
  {
   "cell_type": "code",
   "execution_count": 7,
   "metadata": {},
   "outputs": [
    {
     "data": {
      "text/html": [
       "<div>\n",
       "<style scoped>\n",
       "    .dataframe tbody tr th:only-of-type {\n",
       "        vertical-align: middle;\n",
       "    }\n",
       "\n",
       "    .dataframe tbody tr th {\n",
       "        vertical-align: top;\n",
       "    }\n",
       "\n",
       "    .dataframe thead th {\n",
       "        text-align: right;\n",
       "    }\n",
       "</style>\n",
       "<table border=\"1\" class=\"dataframe\">\n",
       "  <thead>\n",
       "    <tr style=\"text-align: right;\">\n",
       "      <th></th>\n",
       "      <th>i</th>\n",
       "      <th>j</th>\n",
       "      <th>t</th>\n",
       "      <th>τ</th>\n",
       "    </tr>\n",
       "  </thead>\n",
       "  <tbody>\n",
       "    <tr>\n",
       "      <th>0</th>\n",
       "      <td>1</td>\n",
       "      <td>2</td>\n",
       "      <td>33</td>\n",
       "      <td>1</td>\n",
       "    </tr>\n",
       "    <tr>\n",
       "      <th>1</th>\n",
       "      <td>1</td>\n",
       "      <td>2</td>\n",
       "      <td>33</td>\n",
       "      <td>1</td>\n",
       "    </tr>\n",
       "    <tr>\n",
       "      <th>2</th>\n",
       "      <td>1</td>\n",
       "      <td>2</td>\n",
       "      <td>33</td>\n",
       "      <td>1</td>\n",
       "    </tr>\n",
       "    <tr>\n",
       "      <th>3</th>\n",
       "      <td>1</td>\n",
       "      <td>2</td>\n",
       "      <td>33</td>\n",
       "      <td>1</td>\n",
       "    </tr>\n",
       "    <tr>\n",
       "      <th>4</th>\n",
       "      <td>1</td>\n",
       "      <td>2</td>\n",
       "      <td>33</td>\n",
       "      <td>1</td>\n",
       "    </tr>\n",
       "  </tbody>\n",
       "</table>\n",
       "</div>"
      ],
      "text/plain": [
       "   i  j   t  τ\n",
       "0  1  2  33  1\n",
       "1  1  2  33  1\n",
       "2  1  2  33  1\n",
       "3  1  2  33  1\n",
       "4  1  2  33  1"
      ]
     },
     "execution_count": 7,
     "metadata": {},
     "output_type": "execute_result"
    }
   ],
   "source": [
    "# shift the smallest time to zero\n",
    "df.t = df.t - df.t.min()\n",
    "\n",
    "# set a temporal resolution\n",
    "tres = 10*60\n",
    "df.t = (df.t/tres).astype(int)\n",
    "df.head()"
   ]
  },
  {
   "cell_type": "markdown",
   "metadata": {},
   "source": [
    "## Add the weight column\n",
    "\n",
    "Now that we have set a temporal resolution, we group all interactions happening at the same time.\n",
    "\n",
    "> **Remark**. Letting the weight be the number of appearances of an edge within a timestamp is an arbitrary choice. The distance definition takes a weighted temporal graph as input and attributing the weights is part of a data pre-processing step that, in general, depends on the graph under consideration. In all cases, the column `τ` should be present. When considering an unweighted graph, the column `τ` should be filled with $1$'s."
   ]
  },
  {
   "cell_type": "code",
   "execution_count": 8,
   "metadata": {},
   "outputs": [
    {
     "data": {
      "text/html": [
       "<div>\n",
       "<style scoped>\n",
       "    .dataframe tbody tr th:only-of-type {\n",
       "        vertical-align: middle;\n",
       "    }\n",
       "\n",
       "    .dataframe tbody tr th {\n",
       "        vertical-align: top;\n",
       "    }\n",
       "\n",
       "    .dataframe thead th {\n",
       "        text-align: right;\n",
       "    }\n",
       "</style>\n",
       "<table border=\"1\" class=\"dataframe\">\n",
       "  <thead>\n",
       "    <tr style=\"text-align: right;\">\n",
       "      <th></th>\n",
       "      <th>i</th>\n",
       "      <th>j</th>\n",
       "      <th>t</th>\n",
       "      <th>τ</th>\n",
       "    </tr>\n",
       "  </thead>\n",
       "  <tbody>\n",
       "    <tr>\n",
       "      <th>0</th>\n",
       "      <td>1</td>\n",
       "      <td>2</td>\n",
       "      <td>33</td>\n",
       "      <td>5</td>\n",
       "    </tr>\n",
       "    <tr>\n",
       "      <th>1</th>\n",
       "      <td>1</td>\n",
       "      <td>3</td>\n",
       "      <td>1</td>\n",
       "      <td>1</td>\n",
       "    </tr>\n",
       "    <tr>\n",
       "      <th>2</th>\n",
       "      <td>1</td>\n",
       "      <td>3</td>\n",
       "      <td>145</td>\n",
       "      <td>2</td>\n",
       "    </tr>\n",
       "    <tr>\n",
       "      <th>3</th>\n",
       "      <td>1</td>\n",
       "      <td>3</td>\n",
       "      <td>323</td>\n",
       "      <td>2</td>\n",
       "    </tr>\n",
       "    <tr>\n",
       "      <th>4</th>\n",
       "      <td>1</td>\n",
       "      <td>3</td>\n",
       "      <td>436</td>\n",
       "      <td>2</td>\n",
       "    </tr>\n",
       "  </tbody>\n",
       "</table>\n",
       "</div>"
      ],
      "text/plain": [
       "   i  j    t  τ\n",
       "0  1  2   33  5\n",
       "1  1  3    1  1\n",
       "2  1  3  145  2\n",
       "3  1  3  323  2\n",
       "4  1  3  436  2"
      ]
     },
     "execution_count": 8,
     "metadata": {},
     "output_type": "execute_result"
    }
   ],
   "source": [
    "# add the weight column to encode the fraction \n",
    "df['τ'] = 1\n",
    "df = df.groupby(['i', 'j', 't']).sum().reset_index()\n",
    "df.head()"
   ]
  },
  {
   "cell_type": "markdown",
   "metadata": {},
   "source": [
    "## Create a mapping for the nodes\n",
    "\n",
    "If the input graph does not label the nodes from $0$ to $n-1$, then this mapping should be performed by hand.\n",
    "\n",
    "> **Remark**: if you are using the *matched* distance, pay attention to using the same mapping on all graphs."
   ]
  },
  {
   "cell_type": "code",
   "execution_count": 9,
   "metadata": {},
   "outputs": [],
   "source": [
    "# all nodes present in the graph\n",
    "nodes = np.unique(df[['i', 'j']])\n",
    "\n",
    "# number of nodes\n",
    "n = len(nodes)\n",
    "\n",
    "# dictionary mapping the nodes' ids to integers\n",
    "NodeMapper = dict(zip(nodes, np.arange(n)))\n",
    "\n",
    "# map the nodes identities\n",
    "df.i = df.i.map(lambda x: NodeMapper[x])\n",
    "df.j = df.j.map(lambda x: NodeMapper[x])"
   ]
  },
  {
   "cell_type": "markdown",
   "metadata": {},
   "source": [
    "## Example of use\n",
    "\n",
    "Since we need two graphs to compute a distance, we will split `df` into $2$ parts for illustration purposes: one with all interactions happening before the median time and one with all interactions happening after. The argument optional `symmetric` allows you to consider directed graphs as well (see the documentation of the function)."
   ]
  },
  {
   "cell_type": "code",
   "execution_count": 10,
   "metadata": {},
   "outputs": [],
   "source": [
    "# median time\n",
    "tmed = df.t.median()\n",
    "\n",
    "# all interactions happening before or at the median time\n",
    "df1 = df[df.t <= tmed]\n",
    "\n",
    "# all interactions happening after (bringing the smallest value df2.t to 0 once again)\n",
    "df2 = df[df.t > tmed]\n",
    "df2.t = df2.t - df2.t.min()"
   ]
  },
  {
   "cell_type": "code",
   "execution_count": null,
   "metadata": {},
   "outputs": [
    {
     "name": "stdout",
     "output_type": "stream",
     "text": [
      "Running the optimization for k = 1\n",
      "Running the optimization for k = 1\n",
      "[========================>] 100%\r"
     ]
    },
    {
     "data": {
      "text/plain": [
       "43.98502101273601"
      ]
     },
     "execution_count": 11,
     "metadata": {},
     "output_type": "execute_result"
    }
   ],
   "source": [
    "# get the embedding\n",
    "X1 = GraphDynamicEmbedding(df1, n, verbose = True)\n",
    "X2 = GraphDynamicEmbedding(df2, n, verbose = True)\n",
    "\n",
    "# compute the distance\n",
    "dist = EmbDistance(X1, X2, distance_type = 'matched')\n",
    "dist"
   ]
  },
  {
   "cell_type": "code",
   "execution_count": 14,
   "metadata": {},
   "outputs": [
    {
     "data": {
      "text/plain": [
       "44.00420800674333"
      ]
     },
     "execution_count": 14,
     "metadata": {},
     "output_type": "execute_result"
    }
   ],
   "source": [
    "# alternatively you can get the distance directly from one function\n",
    "DynamicGraphDistance(df1, df2, n1 = n, n2 = n, distance_type = 'matched')"
   ]
  },
  {
   "cell_type": "markdown",
   "metadata": {},
   "source": [
    "# Remarks\n",
    "\n",
    "1) When adopting the embedding+distance strategy, different runs give slightly different results. This is because of the randomness in the initialization of the embeddings. In the `DynamicGraphDistance` function, we fix the seeds, and the outcome is deterministic. Consider the following example in which we compute the distance between `df1` and `df1`."
   ]
  },
  {
   "cell_type": "code",
   "execution_count": null,
   "metadata": {},
   "outputs": [
    {
     "name": "stdout",
     "output_type": "stream",
     "text": [
      "Running the optimization for k = 1\n",
      "Running the optimization for k = 1\n",
      "[========================>] 100%\r"
     ]
    },
    {
     "data": {
      "text/plain": [
       "1.8140417147856016"
      ]
     },
     "execution_count": 15,
     "metadata": {},
     "output_type": "execute_result"
    }
   ],
   "source": [
    "# get the embedding\n",
    "X1 = GraphDynamicEmbedding(df1, n, verbose = True)\n",
    "X2 = GraphDynamicEmbedding(df1, n, verbose = True)\n",
    "EmbDistance(X1, X2, distance_type = 'matched')"
   ]
  },
  {
   "cell_type": "code",
   "execution_count": 16,
   "metadata": {},
   "outputs": [
    {
     "data": {
      "text/plain": [
       "0.0"
      ]
     },
     "execution_count": 16,
     "metadata": {},
     "output_type": "execute_result"
    }
   ],
   "source": [
    "# alternatively you can get the distance directly from one function\n",
    "DynamicGraphDistance(df1, df1, n1 = n, n2 = n, distance_type = 'matched')"
   ]
  },
  {
   "cell_type": "markdown",
   "metadata": {},
   "source": [
    "By fixing the seeds, the distance between a graph and itself is correctly equal to zero. In the first case, instead, it is not but it is much smaller than the distance that was computed in the previous example.\n",
    "\n",
    "2. Letting the smallest entry of `df.t` be equal $0$ is only a matter of performance. Here we compute the distance between two identical graphs, in which time is shifted by a constant value. "
   ]
  },
  {
   "cell_type": "code",
   "execution_count": 17,
   "metadata": {},
   "outputs": [
    {
     "data": {
      "text/plain": [
       "0.0"
      ]
     },
     "execution_count": 17,
     "metadata": {},
     "output_type": "execute_result"
    }
   ],
   "source": [
    "# df1 is the same as df2, but in one case the smallest time is set to 0 and in the other it is not\n",
    "df2 = copy(df1)\n",
    "df2.t = df2.t + 1e4\n",
    "DynamicGraphDistance(df1, df2, n1 = n, n2 = n, distance_type = 'matched')"
   ]
  },
  {
   "cell_type": "code",
   "execution_count": null,
   "metadata": {},
   "outputs": [],
   "source": []
  }
 ],
 "metadata": {
  "kernelspec": {
   "display_name": "EDRep",
   "language": "python",
   "name": "python3"
  },
  "language_info": {
   "codemirror_mode": {
    "name": "ipython",
    "version": 3
   },
   "file_extension": ".py",
   "mimetype": "text/x-python",
   "name": "python",
   "nbconvert_exporter": "python",
   "pygments_lexer": "ipython3",
   "version": "3.9.7"
  }
 },
 "nbformat": 4,
 "nbformat_minor": 2
}
