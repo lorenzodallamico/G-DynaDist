{
 "cells": [
  {
   "cell_type": "markdown",
   "id": "8529522c",
   "metadata": {},
   "source": [
    "# Content\n",
    "\n",
    "In this notebook we generate some random graphs from $4$ different families (Erdos-Renyi, stochastic block model, configuration model and geometric model) and make them temporal associating to each edge a temporal series of an edge of the *SP* called `SFHH`. Each graph has a varying number of nodes. We then use our distance definition to cluster the graphs according to their generative model."
   ]
  },
  {
   "cell_type": "code",
   "execution_count": 1,
   "id": "a959934d",
   "metadata": {},
   "outputs": [],
   "source": [
    "import pandas as pd\n",
    "from sklearn.cluster import KMeans\n",
    "from sklearn.metrics.cluster import normalized_mutual_info_score as NMI\n",
    "import matplotlib as mpl\n",
    "import matplotlib.cm as cm\n",
    "import matplotlib.pyplot as plt\n",
    "\n",
    "import sys\n",
    "sys.path += ['Package']\n",
    "\n",
    "from MatrixDistance import *\n",
    "from GraphCreation import *\n",
    "from Utilities import *\n",
    "\n",
    "import warnings\n",
    "warnings.filterwarnings(\"ignore\")"
   ]
  },
  {
   "cell_type": "code",
   "execution_count": 2,
   "id": "547f4780",
   "metadata": {},
   "outputs": [],
   "source": [
    "def MakeTemporal(dft, timeFR):\n",
    "    '''This function takes an edge list (dft) in the form of a pandas dataframe and all the time series stored in\n",
    "    timeFR and creates a temporal graph'''\n",
    "\n",
    "    idx1 = []\n",
    "    idx2 = []\n",
    "    tv = []\n",
    "\n",
    "    # map each edge to one of the edges from time_FR\n",
    "    for x in range(len(dft)):\n",
    "        i, j = dft.iloc[x].values\n",
    "        q = np.random.randint(len(timeFR))\n",
    "\n",
    "        for t in timeFR[q]:\n",
    "            idx1.append(i)\n",
    "            idx2.append(j)\n",
    "            tv.append(t)\n",
    "\n",
    "    # build the temporal dataframe\n",
    "    DFT = pd.DataFrame(np.array([idx1, idx2, tv]).T, columns = ['i', 'j', 't'])\n",
    "    DFT.t -= DFT.t.min()\n",
    "    DFT.t /= 10*60 # 10 minutes time resolution\n",
    "    DFT.t = DFT.t.astype(int)\n",
    "    DFT['τ'] = 1\n",
    "    DFT = DFT.groupby(['i', 'j', 't']).sum().reset_index()\n",
    "    \n",
    "    return DFT\n",
    "\n",
    "def CosSim(x,y):\n",
    "    '''Cosine similarity between two vectors'''\n",
    "    return x@y/np.sqrt(x@x*y@y)\n"
   ]
  },
  {
   "cell_type": "markdown",
   "id": "b3084ae8",
   "metadata": {},
   "source": [
    "### Get the daily activity patterns for each edge in `SFHH`"
   ]
  },
  {
   "cell_type": "code",
   "execution_count": 3,
   "id": "fde9bd1c",
   "metadata": {},
   "outputs": [
    {
     "name": "stdout",
     "output_type": "stream",
     "text": [
      "100.0 %\r"
     ]
    }
   ],
   "source": [
    "# we build df_SP so that it contains (i,j,t, day)\n",
    "df_SP = pd.read_csv('../Codes/Data/SPData/SFHH.dat', header = None, sep = ' ', names = ['t', 'i', 'j'])\n",
    "df_SP['day'] = pd.to_datetime(df_SP.t, unit = 's')\n",
    "df_SP['day'] = df_SP.day.dt.day\n",
    "all_pairs = df_SP.groupby(['i', 'j', 'day']).size().reset_index()[['i', 'j', 'day']].values\n",
    "df_SP.set_index(['i', 'j', 'day'], inplace = True)\n",
    "\n",
    "timeF = []\n",
    "\n",
    "# a pair is in the form (i, j, day) and timeF stores all the interactions between i and j on day t\n",
    "for x, pair in enumerate(all_pairs):\n",
    "    print(str(np.round((x+1)/len(all_pairs)*100,2)) + ' %', end = '\\r')\n",
    "    i, j, t = pair\n",
    "    timeF.append(df_SP.loc[i, j, t].t.values)\n",
    "    \n",
    "# we then construct time FR that for each (i,j,t) stores the edge time-line, centered to 00:00 of the corresponding day \n",
    "timeFR = [[] for x in range(len(timeF))]\n",
    "\n",
    "for a, T in enumerate(timeF):\n",
    "    print(str(np.round((a+1)/len(all_pairs)*100,2)) + ' %', end = '\\r')\n",
    "    for t in T:\n",
    "        if (pd.to_datetime(t, unit = 's') - pd.to_datetime('1970-01-01 08:00:00')).days == 1:\n",
    "\n",
    "            tt = (pd.to_datetime(t, unit = 's') - pd.to_datetime('1970-01-02 08:00:00')).total_seconds()\n",
    "            \n",
    "        else:\n",
    "            tt = (pd.to_datetime(t, unit = 's') - pd.to_datetime('1970-01-01 08:00:00')).total_seconds()\n",
    "            \n",
    "        timeFR[a].append(tt)"
   ]
  },
  {
   "cell_type": "code",
   "execution_count": 4,
   "id": "b2ad2cbb",
   "metadata": {},
   "outputs": [
    {
     "name": "stdout",
     "output_type": "stream",
     "text": [
      "100.0 %\n",
      "\n",
      "100.0 %\n",
      "\n",
      "100.0 %\n",
      "\n",
      "100.0 %\r"
     ]
    }
   ],
   "source": [
    "# We generate a sequence of temporal graphs with n0 = 1000 as the average number of nodes and store them in the \n",
    "# list DFT. For each type we generate 250 graphs\n",
    "\n",
    "n = 1000\n",
    "n_graphs = 1\n",
    "\n",
    "DFT = []\n",
    "size = []\n",
    "\n",
    "### DCSBM\n",
    "k = 5\n",
    "c_in = 25\n",
    "c_out = 1\n",
    "C = np.ones((k,k))*c_out\n",
    "C += np.diag(np.ones(k))*(c_in - c_out)\n",
    "c = (c_in + (k-1)*c_out)/k\n",
    "symmetric = True\n",
    "make_connected = True\n",
    "\n",
    "\n",
    "\n",
    "for i in range(n_graphs):\n",
    "    print(str(100*(i+1)/n_graphs) + ' %' , end = '\\r')\n",
    "    \n",
    "    θ = np.ones(n)\n",
    "    ℓ = np.zeros(n)\n",
    "    for i in range(k):\n",
    "        ℓ[i*int(n/k): (i+1)*int(n/k)] = i\n",
    "    ℓ = ℓ.astype(int)\n",
    "\n",
    "    args = (C, c, ℓ, θ, symmetric, make_connected)\n",
    "    dft = DCSBM(args)\n",
    "    DFT.append(MakeTemporal(dft, timeFR))\n",
    "    size.append(n)\n",
    "print('\\n')\n",
    "    \n",
    "### ER\n",
    "k = 1\n",
    "C = np.ones((k,k))*c\n",
    "\n",
    "for i in range(n_graphs):\n",
    "    print(str(100*(i+1)/n_graphs) + ' %' , end = '\\r')\n",
    "    \n",
    "    ℓ = np.zeros(n).astype(int)\n",
    "    θ = np.ones(n)\n",
    "    args = (C, c, ℓ, θ, symmetric, make_connected)\n",
    "\n",
    "    dft = DCSBM(args)\n",
    "    DFT.append(MakeTemporal(dft, timeFR))\n",
    "    size.append(n)\n",
    "print('\\n')\n",
    "\n",
    "    \n",
    "### Configuration model\n",
    "for i in range(n_graphs):\n",
    "    print(str(100*(i+1)/n_graphs) + ' %' , end = '\\r')\n",
    "    \n",
    "    θ = np.random.uniform(3,10, n)**4\n",
    "    θ = θ/np.mean(θ)\n",
    "    ℓ = np.zeros(n).astype(int)\n",
    "    args = (C, c, ℓ, θ, symmetric, make_connected)\n",
    "\n",
    "    \n",
    "    dft = DCSBM(args)\n",
    "    DFT.append(MakeTemporal(dft, timeFR))\n",
    "    size.append(n)\n",
    "print('\\n')\n",
    "\n",
    "### Geometric model\n",
    "β = 20\n",
    "\n",
    "for i in range(n_graphs):\n",
    "    print(str(100*(i+1)/n_graphs) + ' %' , end = '\\r')\n",
    "    \n",
    "    r = np.random.uniform(0, 1, n)\n",
    "    θ = np.random.uniform(0, 2*np.pi, n)\n",
    "    X = np.zeros((n, 2))\n",
    "    X[:,0] = r*np.cos(θ)\n",
    "    X[:,1] = r*np.sin(θ)\n",
    "    args = (X, c, β)\n",
    "\n",
    "    \n",
    "    dft = GeometricModel(args)\n",
    "    DFT.append(MakeTemporal(dft, timeFR))\n",
    "    \n",
    "    size.append(n)"
   ]
  },
  {
   "cell_type": "code",
   "execution_count": 15,
   "id": "8210304a",
   "metadata": {},
   "outputs": [
    {
     "name": "stdout",
     "output_type": "stream",
     "text": [
      "graph: 4; alpha:1.0; iter: 25/2585; iter: 25/255\r"
     ]
    }
   ],
   "source": [
    "αv = np.linspace(0,1,15)\n",
    "n_iter = 25\n",
    "\n",
    "dist = [np.zeros((len(αv), n_iter)) for i in range(len(DFT))]\n",
    "\n",
    "for kk in range(len(DFT)):\n",
    "    df = copy(DFT[kk])\n",
    "    n = len(np.unique(df[['i', 'j']]))\n",
    "    \n",
    "\n",
    "    for a, α in enumerate(αv):\n",
    "        np.random.seed(123)\n",
    "        X = GraphDynamicEmbedding(df, dim = 32, n = n, verbose = False) \n",
    "\n",
    "        all_nodes = np.sort(np.unique(df[['i', 'j']]).astype(int))\n",
    "        n = len(all_nodes)\n",
    "\n",
    "        for i in range(n_iter):\n",
    "            np.random.seed()\n",
    "            df = copy(DFT[kk])\n",
    "            print(f'graph: {kk+1}; alpha:{α}; iter: {i+1}/{n_iter}', end = '\\r')\n",
    "            all_nodes_shuffled = copy(all_nodes)\n",
    "            idx = np.random.binomial(1, α, n) == 1\n",
    "            to_be_shuffled = all_nodes_shuffled[idx]\n",
    "            np.random.shuffle(to_be_shuffled)\n",
    "            all_nodes_shuffled[idx] = to_be_shuffled\n",
    "            NodeMapper = dict(zip(all_nodes, all_nodes_shuffled))\n",
    "\n",
    "            df.i = df.i.map(lambda x: NodeMapper[x])\n",
    "            df.j = df.j.map(lambda x: NodeMapper[x])\n",
    "\n",
    "            np.random.seed(123)\n",
    "            Y = GraphDynamicEmbedding(df, dim = 32, n = n, verbose = False)\n",
    "            dist[kk][a,i] = EmbDistance(X, Y, distance_type = 'matched')/n"
   ]
  },
  {
   "cell_type": "code",
   "execution_count": 16,
   "id": "47be3f05",
   "metadata": {},
   "outputs": [],
   "source": [
    "# names = ['DCSBM', 'ER', 'Configuration model', 'GeometricModel']\n",
    "\n",
    "# for i, name in enumerate(names):\n",
    "#     pd.DataFrame(dist[i]).to_csv(f'Data/Partially_shuffled_nodes/{name}.csv', index = False)"
   ]
  },
  {
   "cell_type": "code",
   "execution_count": 11,
   "id": "c14431f4",
   "metadata": {},
   "outputs": [],
   "source": [
    "# names = ['DCSBM', 'ER', 'Configuration model', 'GeometricModel']\n",
    "# dist = []\n",
    "\n",
    "# for i, name in enumerate(names):\n",
    "#     dist.append(pd.read_csv(f'Data/Partially_shuffled_nodes/{name}.csv'))"
   ]
  },
  {
   "cell_type": "code",
   "execution_count": 13,
   "id": "9ac65f68",
   "metadata": {},
   "outputs": [
    {
     "data": {
      "image/png": "[encoded data removed]",
      "text/plain": [
       "<Figure size 1440x360 with 4 Axes>"
      ]
     },
     "metadata": {
      "needs_background": "light"
     },
     "output_type": "display_data"
    }
   ],
   "source": [
    "ngraphs = 4\n",
    "αv = np.linspace(0,1,7)\n",
    "\n",
    "fig, ax = plt.subplots(1, ngraphs, figsize = (5*ngraphs, 5))\n",
    "\n",
    "\n",
    "\n",
    "for i in range(ngraphs):\n",
    "\n",
    "    d = dist[i]/dist[i].max().mean()\n",
    "    m = np.mean(d, axis = 1)\n",
    "    s = np.std(d, axis = 1)\n",
    "    ax[i].plot(αv, m, color = 'indigo', marker = 'o')\n",
    "    ax[i].fill_between(αv,  m-s, m+s, color = 'plum')\n",
    "\n",
    "\n",
    "    ax[i].set_title(names[i], fontsize = 25)\n",
    "    ax[i].set_xlabel('fraction of shuffled nodes', fontsize = 18)\n",
    "    ax[i].tick_params(axis='both', which='major', labelsize=16)\n",
    "    \n",
    "    \n",
    "ax[0].set_ylabel('d/n', fontsize = 18)\n",
    "    \n",
    "plt.show();"
   ]
  },
  {
   "cell_type": "code",
   "execution_count": null,
   "id": "59e93e6f",
   "metadata": {},
   "outputs": [],
   "source": []
  }
 ],
 "metadata": {
  "kernelspec": {
   "display_name": "Python 3 (ipykernel)",
   "language": "python",
   "name": "python3"
  },
  "language_info": {
   "codemirror_mode": {
    "name": "ipython",
    "version": 3
   },
   "file_extension": ".py",
   "mimetype": "text/x-python",
   "name": "python",
   "nbconvert_exporter": "python",
   "pygments_lexer": "ipython3",
   "version": "3.9.7"
  }
 },
 "nbformat": 4,
 "nbformat_minor": 5
}
