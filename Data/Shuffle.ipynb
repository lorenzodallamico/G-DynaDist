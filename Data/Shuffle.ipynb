{
 "cells": [
  {
   "cell_type": "markdown",
   "id": "b395ca5c",
   "metadata": {},
   "source": [
    "# Content\n",
    "\n",
    "In this notebook we take the SocioPatterns datasets from the folder `Graphs` and, for each of them, create $250$ randomized versions obtained through different shuffling techniques. These datasets are obtained with a resolution of $10$ minutes. The results of the shuffling are stored in the folder `Shuffled` and files are named `GraphName_TypeOfShuffling/number.csv`. The content of the folder `Graphs` is produced with the notebook `Prepare_Graphs`."
   ]
  },
  {
   "cell_type": "code",
   "execution_count": 1,
   "id": "93078be8",
   "metadata": {},
   "outputs": [],
   "source": [
    "# upload packages\n",
    "from os import listdir\n",
    "import pathlib\n",
    "from joblib import Parallel, delayed\n",
    "\n",
    "# set library directory\n",
    "import sys\n",
    "sys.path += ['d/ir_to_packagePackage'] \n",
    "\n",
    "from GraphCreation import *\n",
    "\n",
    "import warnings\n",
    "warnings.filterwarnings(\"ignore\")"
   ]
  },
  {
   "cell_type": "code",
   "execution_count": 2,
   "id": "88103fe2",
   "metadata": {},
   "outputs": [],
   "source": [
    "def SaveShuffledData(Name, ShufflingTypes, tres, n_graphs):\n",
    "    \n",
    "    # load the two datafiles\n",
    "    DFt = pd.read_csv('Graphs/' + Name + '-dft.csv')\n",
    "    DFttau = pd.read_csv('Graphs/' + Name + '-dfttau.csv')\n",
    "\n",
    "    dft = copy(DFt)\n",
    "    dfttau = copy(DFttau)\n",
    "\n",
    "    # create the shufflings\n",
    "    for Shuffling in ShufflingTypes:\n",
    "        \n",
    "        print('\\n', end = '\\r')\n",
    "    \n",
    "        args = (dft, dfttau, Shuffling, tres)\n",
    "\n",
    "        outputfolder = 'Shuffled/' + Name.split('-')[0] + '-' + Shuffling \n",
    "\n",
    "        # creates the folder if it does not exist\n",
    "        pathlib.Path(outputfolder).mkdir(exist_ok = True) \n",
    "\n",
    "        # Generate the graphs\n",
    "        generateSequence(outputfolder, RandomizeGraph, args, n_graphs, verbose = False)\n",
    "        \n",
    "    return"
   ]
  },
  {
   "cell_type": "code",
   "execution_count": 5,
   "id": "929997d4",
   "metadata": {
    "scrolled": false
   },
   "outputs": [],
   "source": [
    "minutes = 10 # set the resolution\n",
    "tres = 3*minutes # 3 time-steps correspond to 1 minute\n",
    "n_graphs = 250 # number of shufflings to be created\n",
    "\n",
    "FileNames = np.unique([x.split('-')[0] for x in listdir('Graphs')])\n",
    "ShufflingTypes = ['random', 'sequence', 'active_snapshot', 'time', 'random_delta', 'activity_driven']\n",
    "\n",
    "Pl = Parallel(n_jobs = 8, verbose = 8)\n",
    "_ = Pl(delayed(SaveShuffledData)(Name, ShufflingTypes, tres, n_graphs) for Name in FileNames)"
   ]
  },
  {
   "cell_type": "code",
   "execution_count": null,
   "id": "c2514e48",
   "metadata": {},
   "outputs": [],
   "source": []
  }
 ],
 "metadata": {
  "kernelspec": {
   "display_name": "Python 3 (ipykernel)",
   "language": "python",
   "name": "python3"
  },
  "language_info": {
   "codemirror_mode": {
    "name": "ipython",
    "version": 3
   },
   "file_extension": ".py",
   "mimetype": "text/x-python",
   "name": "python",
   "nbconvert_exporter": "python",
   "pygments_lexer": "ipython3",
   "version": "3.9.7"
  }
 },
 "nbformat": 4,
 "nbformat_minor": 5
}
