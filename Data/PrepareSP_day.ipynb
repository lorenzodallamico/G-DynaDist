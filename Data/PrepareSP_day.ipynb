{
 "cells": [
  {
   "cell_type": "code",
   "execution_count": 1,
   "id": "51f9dfe1",
   "metadata": {},
   "outputs": [],
   "source": [
    "import pandas as pd\n",
    "import numpy as np\n",
    "\n",
    "import warnings\n",
    "warnings.filterwarnings(\"ignore\")\n",
    "\n",
    "ROOT = 'SPData/'"
   ]
  },
  {
   "cell_type": "markdown",
   "id": "9aee28a2",
   "metadata": {},
   "source": [
    "# Content\n",
    "\n",
    "\n",
    "In this notebook we upload the contact data collected in the schools from the folder `Data/SPData` and then generate a series of temporal graphs containing all the interactions between two classes on a given day. The output is saved in the folder `Data/SP_Classes_2_per_day` and the name identifies the school and the classes."
   ]
  },
  {
   "cell_type": "code",
   "execution_count": 2,
   "id": "7437e357",
   "metadata": {},
   "outputs": [],
   "source": [
    "def PreProcessDFT(df, tres):\n",
    "    '''This function preprocesses a dataframe in the format t,i,j with the t column called DateTime and it makes\n",
    "    it a suitable input to our function.'''\n",
    "    \n",
    "    # convert time to epochs \n",
    "    t0 = pd.to_datetime('1970-01-01 00:00:00')\n",
    "    df['t'] = (df.DateTime - t0).dt.total_seconds()\n",
    "        \n",
    "    # shift t0 = 0 and set the time resoution\n",
    "    df.t = df.t - df.t.min()\n",
    "    df['τ'] = 1\n",
    "    df.t = (df.t/tres).astype(int)\n",
    "\n",
    "    # keep only the relevant columns\n",
    "    df = df.reset_index().drop(['Date', 'DateTime'], axis = 1)\n",
    "\n",
    "    # rename the nodes\n",
    "    all_nodes = np.unique(df[['i', 'j']].values)\n",
    "    n = len(all_nodes)\n",
    "    mapper = dict(zip(all_nodes, np.arange(n)))\n",
    "    df.i = df.i.map(lambda x: mapper[x])\n",
    "    df.j = df.j.map(lambda x: mapper[x])\n",
    "\n",
    "    # move to the (i,j,t,τ) format\n",
    "    df = df.groupby(['i', 'j', 't']).sum().reset_index()\n",
    "    \n",
    "    return df\n",
    "\n",
    "def ConvertDateFormat(x): \n",
    "    '''Function that converts the format from dd/mm/YY to dd-mm-YY'''\n",
    "    a, b, c = x.split('/')\n",
    "    return a + '-' + b + '-' + c\n",
    "\n",
    "def GenerateData(df, name):\n",
    "    '''This function takes a dataframe it splits it by day, pre-processes it and then it saves it. The name\n",
    "    variable is used to save the output'''\n",
    "    \n",
    "    \n",
    "    df['DateTime'] = pd.to_datetime(df.t, unit = 's')\n",
    "    df = df[['DateTime', 'i', 'j']]\n",
    "    \n",
    "    df['Date'] = df.DateTime.dt.date.astype(str)\n",
    "    all_days = df.Date.unique()\n",
    "    df.set_index('Date', inplace = True)\n",
    "\n",
    "    # split by day\n",
    "    DFT = [df.loc[[day]] for day in all_days]\n",
    "    del df\n",
    "\n",
    "    # preprocess the graphs\n",
    "    for day, df in zip(all_days, DFT):\n",
    "        dft = PreProcessDFT(df, 60)\n",
    "        dft.to_csv('SP_Classes_2_per_day/' + name + '-' + day + '.csv')\n",
    "        \n",
    "    return"
   ]
  },
  {
   "cell_type": "code",
   "execution_count": 3,
   "id": "4c4858c8",
   "metadata": {},
   "outputs": [],
   "source": [
    "name = 'primaryschool'\n",
    "\n",
    "df = pd.read_csv(ROOT + name + '.csv', sep = '\\t', header = None, names = ['t', 'i', 'j', 'C1', 'C2'])\n",
    "all_classes = ['1A', '1B', '2A', '2B', '3A', '3B', '4A', '4B', '5A', '5B']\n",
    "\n",
    "for i, a in enumerate(all_classes):\n",
    "    for j, b in enumerate(all_classes):\n",
    "        if j > i:\n",
    "            \n",
    "            # consider only the contacts between two given classes\n",
    "            idx = np.isin(df.C1, [a,b])\n",
    "            dfAB = df[idx]\n",
    "            idx = np.isin(dfAB.C2, [a,b])\n",
    "            dfAB = dfAB[idx]\n",
    "            \n",
    "            # pre-process and save the data\n",
    "            GenerateData(dfAB[['t', 'i', 'j']], name + '-' + a + '_' + b)"
   ]
  },
  {
   "cell_type": "code",
   "execution_count": 4,
   "id": "6f5b49cd",
   "metadata": {
    "scrolled": false
   },
   "outputs": [],
   "source": [
    "name = 'highschool_2011'\n",
    "df = pd.read_csv(ROOT + name + '.csv', sep = '\\t', header = None, names = ['t', 'i', 'j', 'C1', 'C2'])\n",
    "all_classes = ['PC', 'PC*', 'PSI*']\n",
    "\n",
    "for i, a in enumerate(all_classes):\n",
    "    for j, b in enumerate(all_classes):\n",
    "        if j > i:\n",
    "            idx = np.isin(df.C1, [a,b])\n",
    "            dfAB = df[idx]\n",
    "            idx = np.isin(dfAB.C2, [a,b])\n",
    "            dfAB = dfAB[idx]\n",
    "            GenerateData(dfAB[['t', 'i', 'j']], name + '-' + a + '_' + b)"
   ]
  },
  {
   "cell_type": "code",
   "execution_count": 5,
   "id": "a80e2b87",
   "metadata": {},
   "outputs": [],
   "source": [
    "name = 'highschool_2012'\n",
    "df = pd.read_csv(ROOT + name + '.csv', sep = '\\t', header = None, names = ['t', 'i', 'j', 'C1', 'C2'])\n",
    "all_classes = ['MP*1', 'MP*2', 'PC', 'PC*', 'PSI*']\n",
    "\n",
    "for i, a in enumerate(all_classes):\n",
    "    for j, b in enumerate(all_classes):\n",
    "        if j > i:\n",
    "            idx = np.isin(df.C1, [a,b])\n",
    "            dfAB = df[idx]\n",
    "            idx = np.isin(dfAB.C2, [a,b])\n",
    "            dfAB = dfAB[idx]\n",
    "            GenerateData(dfAB[['t', 'i', 'j']], name + '-' + a + '_' + b)"
   ]
  },
  {
   "cell_type": "code",
   "execution_count": 6,
   "id": "751805e8",
   "metadata": {},
   "outputs": [],
   "source": [
    "name = 'highschool_2013'\n",
    "df = pd.read_csv(ROOT + name + '.csv', sep = ' ', header = None, names = ['t', 'i', 'j', 'C1', 'C2'])\n",
    "all_classes = ['2BIO1', '2BIO2', '2BIO3', 'MP', 'MP*1', 'MP*2', 'PC', 'PC*','PSI*']\n",
    "\n",
    "for i, a in enumerate(all_classes):\n",
    "    for j, b in enumerate(all_classes):\n",
    "        if j > i:\n",
    "            idx = np.isin(df.C1, [a,b])\n",
    "            dfAB = df[idx]\n",
    "            idx = np.isin(dfAB.C2, [a,b])\n",
    "            dfAB = dfAB[idx]\n",
    "            GenerateData(dfAB[['t', 'i', 'j']], name + '-' + a + '_' + b)"
   ]
  },
  {
   "cell_type": "code",
   "execution_count": null,
   "id": "217ebbe4",
   "metadata": {},
   "outputs": [],
   "source": []
  }
 ],
 "metadata": {
  "kernelspec": {
   "display_name": "Python 3 (ipykernel)",
   "language": "python",
   "name": "python3"
  },
  "language_info": {
   "codemirror_mode": {
    "name": "ipython",
    "version": 3
   },
   "file_extension": ".py",
   "mimetype": "text/x-python",
   "name": "python",
   "nbconvert_exporter": "python",
   "pygments_lexer": "ipython3",
   "version": "3.9.7"
  }
 },
 "nbformat": 4,
 "nbformat_minor": 5
}
