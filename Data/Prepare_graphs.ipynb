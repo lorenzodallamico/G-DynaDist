{
 "cells": [
  {
   "cell_type": "markdown",
   "id": "3075e431",
   "metadata": {},
   "source": [
    "# Content\n",
    "\n",
    "\n",
    "In this notebook we take the SocioPatterns dataset from the `SPData` folder and convert them to a unique format `i,j,t`, so that `i, j` are two numbers between $1$ and $n$ and `t` is the number of $20$ seconds slices elapsed since the first measurement. The output is saved in the folder `Graphs`."
   ]
  },
  {
   "cell_type": "code",
   "execution_count": 1,
   "id": "7aacb998",
   "metadata": {},
   "outputs": [],
   "source": [
    "# set library directory\n",
    "import sys\n",
    "sys.path += ['dir_to_package/Package'] \n",
    "\n",
    "from Utilities import *\n",
    "\n",
    "import warnings\n",
    "warnings.filterwarnings(\"ignore\")\n",
    "\n",
    "ROOT = 'SPData/'"
   ]
  },
  {
   "cell_type": "code",
   "execution_count": 2,
   "id": "b21d56a1",
   "metadata": {},
   "outputs": [],
   "source": [
    "def ProcessAndSave(dft, name):\n",
    "    '''Function to pre-process and save the data. Given the temporal network dft, it maps its nodes to integers \n",
    "    between 0 and n-1 (where n is the number of nodes), it sets the temporal resolution to 20 seconds and shifts\n",
    "    the smallest time to 0. It then creates both the (i,j,t) and (i,j,t,τ) graph representations and saves them \n",
    "    in the appropriate folder'''\n",
    "    \n",
    "    # map the node names to integers between 0 and n-1\n",
    "    all_nodes = np.unique(dft[['i', 'j']].values)\n",
    "    n = len(all_nodes)\n",
    "    mapper = dict(zip(all_nodes, np.arange(n)))\n",
    "    idx1 = dft.i.map(lambda x: mapper[x])\n",
    "    idx2 = dft.j.map(lambda x: mapper[x])\n",
    "\n",
    "    dft.i = np.minimum(idx1, idx2)\n",
    "    dft.j = np.maximum(idx1, idx2)\n",
    "\n",
    "    # shift time and change the temporal resolution\n",
    "    dft.t = dft.t - dft.t.min()\n",
    "    dft.t /= 20\n",
    "\n",
    "    # save the (i,j,t) format\n",
    "    dft[['i', 'j', 't']].to_csv('Graphs/' + name + '-dft.csv', index = False)\n",
    "    \n",
    "    # create and save the (i,j,t,τ) format\n",
    "    dfttau = tij2tijtau(dft)\n",
    "    dfttau.to_csv('Graphs/' + name + '-dfttau.csv', index = False)\n",
    "    \n",
    "    return"
   ]
  },
  {
   "cell_type": "code",
   "execution_count": 3,
   "id": "d693c4e8",
   "metadata": {},
   "outputs": [
    {
     "name": "stderr",
     "output_type": "stream",
     "text": [
      "[Parallel(n_jobs=8)]: Using backend LokyBackend with 8 concurrent workers.\n",
      "[Parallel(n_jobs=8)]: Done   9 tasks      | elapsed:    1.1s\n",
      "[Parallel(n_jobs=8)]: Done 160 tasks      | elapsed:    1.6s\n",
      "[Parallel(n_jobs=8)]: Done 347 out of 347 | elapsed:    2.0s finished\n"
     ]
    }
   ],
   "source": [
    "name = 'malawi_pilot'\n",
    "\n",
    "df = pd.read_csv(ROOT + name + '.csv.gz')[['contact_time', 'id1', 'id2']]\n",
    "df = df.rename(columns = {'contact_time': 't', 'id1': 'i', 'id2': 'j'})\n",
    "ProcessAndSave(df, name)"
   ]
  },
  {
   "cell_type": "code",
   "execution_count": 4,
   "id": "0df316f9",
   "metadata": {},
   "outputs": [
    {
     "name": "stderr",
     "output_type": "stream",
     "text": [
      "[Parallel(n_jobs=8)]: Using backend LokyBackend with 8 concurrent workers.\n",
      "[Parallel(n_jobs=8)]: Done   9 tasks      | elapsed:    0.0s\n",
      "[Parallel(n_jobs=8)]: Done  78 out of  78 | elapsed:    0.2s finished\n"
     ]
    }
   ],
   "source": [
    "name = 'baboons'\n",
    "\n",
    "df = pd.read_csv(ROOT + name + '.txt', sep = '\\t')\n",
    "dft = df[['t', 'i', 'j']]\n",
    "ProcessAndSave(dft, name)"
   ]
  },
  {
   "cell_type": "code",
   "execution_count": 5,
   "id": "9c1a4706",
   "metadata": {},
   "outputs": [
    {
     "name": "stderr",
     "output_type": "stream",
     "text": [
      "[Parallel(n_jobs=8)]: Using backend LokyBackend with 8 concurrent workers.\n",
      "[Parallel(n_jobs=8)]: Done   9 tasks      | elapsed:    0.0s\n",
      "[Parallel(n_jobs=8)]: Done 528 tasks      | elapsed:    0.9s\n",
      "[Parallel(n_jobs=8)]: Done 2496 tasks      | elapsed:    3.8s\n",
      "[Parallel(n_jobs=8)]: Done 5232 tasks      | elapsed:    7.7s\n",
      "[Parallel(n_jobs=8)]: Done 8768 tasks      | elapsed:   12.5s\n",
      "[Parallel(n_jobs=8)]: Done 9565 out of 9565 | elapsed:   13.7s finished\n"
     ]
    }
   ],
   "source": [
    "name = 'SFHH'\n",
    "\n",
    "dft = pd.read_csv(ROOT + name + '.dat', sep = ' ', header = None, names = ['t', 'i', 'j'])\n",
    "ProcessAndSave(dft, name)"
   ]
  },
  {
   "cell_type": "code",
   "execution_count": 6,
   "id": "d43eb86e",
   "metadata": {},
   "outputs": [
    {
     "name": "stderr",
     "output_type": "stream",
     "text": [
      "[Parallel(n_jobs=8)]: Using backend LokyBackend with 8 concurrent workers.\n",
      "[Parallel(n_jobs=8)]: Done   9 tasks      | elapsed:    0.0s\n",
      "[Parallel(n_jobs=8)]: Done 528 tasks      | elapsed:    0.8s\n",
      "[Parallel(n_jobs=8)]: Done 755 out of 755 | elapsed:    1.0s finished\n"
     ]
    }
   ],
   "source": [
    "name = 'InVS'\n",
    "\n",
    "dft = pd.read_csv(ROOT + name + '.dat', sep = ' ', header = None, names = ['t', 'i', 'j'])\n",
    "ProcessAndSave(dft, name)"
   ]
  },
  {
   "cell_type": "code",
   "execution_count": 7,
   "id": "7ca05337",
   "metadata": {},
   "outputs": [
    {
     "name": "stderr",
     "output_type": "stream",
     "text": [
      "[Parallel(n_jobs=8)]: Using backend LokyBackend with 8 concurrent workers.\n",
      "[Parallel(n_jobs=8)]: Done   9 tasks      | elapsed:    0.1s\n",
      "[Parallel(n_jobs=8)]: Done 528 tasks      | elapsed:    1.2s\n",
      "[Parallel(n_jobs=8)]: Done 2496 tasks      | elapsed:    4.3s\n",
      "[Parallel(n_jobs=8)]: Done 5232 tasks      | elapsed:    8.5s\n",
      "[Parallel(n_jobs=8)]: Done 8317 out of 8317 | elapsed:   13.3s finished\n"
     ]
    }
   ],
   "source": [
    "name = 'primaryschool'\n",
    "\n",
    "df = pd.read_csv(ROOT + name + '.csv', sep = '\\t', header = None, names = ['t', 'i', 'j', 'C1', 'C2'])\n",
    "dft = df[['t', 'i', 'j']]\n",
    "ProcessAndSave(dft, name)"
   ]
  },
  {
   "cell_type": "code",
   "execution_count": 8,
   "id": "a0a81e8f",
   "metadata": {},
   "outputs": [
    {
     "name": "stderr",
     "output_type": "stream",
     "text": [
      "[Parallel(n_jobs=8)]: Using backend LokyBackend with 8 concurrent workers.\n",
      "[Parallel(n_jobs=8)]: Done   9 tasks      | elapsed:    0.1s\n",
      "[Parallel(n_jobs=8)]: Done 528 tasks      | elapsed:    1.1s\n",
      "[Parallel(n_jobs=8)]: Done 2496 tasks      | elapsed:    4.1s\n",
      "[Parallel(n_jobs=8)]: Done 5232 tasks      | elapsed:    8.6s\n",
      "[Parallel(n_jobs=8)]: Done 5818 out of 5818 | elapsed:    9.7s finished\n"
     ]
    }
   ],
   "source": [
    "name = 'highschool_2013'\n",
    "df = pd.read_csv(ROOT + name + '.csv', sep = ' ', header = None, names = ['t', 'i', 'j', 'C1', 'C2'])\n",
    "dft = df[['t', 'i', 'j']]\n",
    "ProcessAndSave(dft, name)"
   ]
  },
  {
   "cell_type": "code",
   "execution_count": 9,
   "id": "143a246d",
   "metadata": {},
   "outputs": [
    {
     "name": "stderr",
     "output_type": "stream",
     "text": [
      "[Parallel(n_jobs=8)]: Using backend LokyBackend with 8 concurrent workers.\n",
      "[Parallel(n_jobs=8)]: Done   9 tasks      | elapsed:    0.0s\n",
      "[Parallel(n_jobs=8)]: Done 528 tasks      | elapsed:    0.8s\n",
      "[Parallel(n_jobs=8)]: Done 1710 out of 1710 | elapsed:    2.4s finished\n"
     ]
    }
   ],
   "source": [
    "name = 'highschool_2011'\n",
    "df = pd.read_csv(ROOT + name + '.csv', sep = '\\t', header = None, names = ['t', 'i', 'j', 'C1', 'C2'])\n",
    "dft = df[['t', 'i', 'j']]\n",
    "ProcessAndSave(dft, name)"
   ]
  },
  {
   "cell_type": "code",
   "execution_count": 10,
   "id": "0d5cb48c",
   "metadata": {},
   "outputs": [
    {
     "name": "stderr",
     "output_type": "stream",
     "text": [
      "[Parallel(n_jobs=8)]: Using backend LokyBackend with 8 concurrent workers.\n",
      "[Parallel(n_jobs=8)]: Done   9 tasks      | elapsed:    0.0s\n",
      "[Parallel(n_jobs=8)]: Done 560 tasks      | elapsed:    1.1s\n",
      "[Parallel(n_jobs=8)]: Done 2186 tasks      | elapsed:    3.0s\n",
      "[Parallel(n_jobs=8)]: Done 2220 out of 2220 | elapsed:    3.0s finished\n"
     ]
    }
   ],
   "source": [
    "name = 'highschool_2012'\n",
    "df = pd.read_csv(ROOT + name + '.csv', sep = '\\t', header = None, names = ['t', 'i', 'j', 'C1', 'C2'])\n",
    "dft = df[['t', 'i', 'j']]\n",
    "ProcessAndSave(dft, name)"
   ]
  },
  {
   "cell_type": "code",
   "execution_count": 11,
   "id": "e003fa97",
   "metadata": {},
   "outputs": [
    {
     "name": "stderr",
     "output_type": "stream",
     "text": [
      "[Parallel(n_jobs=8)]: Using backend LokyBackend with 8 concurrent workers.\n",
      "[Parallel(n_jobs=8)]: Done   9 tasks      | elapsed:    0.0s\n",
      "[Parallel(n_jobs=8)]: Done 528 tasks      | elapsed:    0.8s\n",
      "[Parallel(n_jobs=8)]: Done 1139 out of 1139 | elapsed:    1.6s finished\n"
     ]
    }
   ],
   "source": [
    "name = 'hospital'\n",
    "df = pd.read_csv(ROOT + name + '.dat', sep = '\\t', header = None, names = ['t', 'i', 'j', 'C1', 'C2'])\n",
    "dft = df[['t', 'i', 'j']]\n",
    "ProcessAndSave(dft, name)"
   ]
  },
  {
   "cell_type": "code",
   "execution_count": null,
   "id": "ba5a0ee1",
   "metadata": {},
   "outputs": [],
   "source": []
  }
 ],
 "metadata": {
  "kernelspec": {
   "display_name": "Python 3 (ipykernel)",
   "language": "python",
   "name": "python3"
  },
  "language_info": {
   "codemirror_mode": {
    "name": "ipython",
    "version": 3
   },
   "file_extension": ".py",
   "mimetype": "text/x-python",
   "name": "python",
   "nbconvert_exporter": "python",
   "pygments_lexer": "ipython3",
   "version": "3.9.7"
  }
 },
 "nbformat": 4,
 "nbformat_minor": 5
}
