{
 "cells": [
  {
   "cell_type": "markdown",
   "id": "4b661162",
   "metadata": {},
   "source": [
    "# Content\n",
    "\n",
    "In this notebook we take the graphs from the `Shuffled` folder and we perform their embedding and save them in the `Embeddings` folder. The content inside the `Shuffled` folder is created from the notebook `Shuffle`."
   ]
  },
  {
   "cell_type": "code",
   "execution_count": 4,
   "id": "3f04ffd4",
   "metadata": {},
   "outputs": [],
   "source": [
    "from os import listdir\n",
    "from joblib import Parallel, delayed\n",
    "import pandas as pd\n",
    "import pathlib\n",
    "\n",
    "import sys\n",
    "sys.path += ['/home/lorenzo/Scrivania/My_projects/Embeddings/02_GraphD/Dynamic_distance/Codes/Package']\n",
    "\n",
    "from MatrixDistance import *\n",
    "\n",
    "import warnings\n",
    "warnings.filterwarnings(\"ignore\")"
   ]
  },
  {
   "cell_type": "code",
   "execution_count": 5,
   "id": "585cad3e",
   "metadata": {},
   "outputs": [],
   "source": [
    "def GetEmbeddingPerType(gtype, directory):\n",
    "    '''Function that can be run in parallel and that computes the embeddings for every shuffled graph and then\n",
    "    saves them in the directory Embeddings/Shuffling'''\n",
    "\n",
    "    all_graphs = listdir(directory + gtype)\n",
    "\n",
    "    for graph in all_graphs:\n",
    "\n",
    "        dft = pd.read_csv(directory + '/' + gtype + '/' + graph)\n",
    "        X = GraphDynamicEmbedding(dft, n_epochs = 20)\n",
    "\n",
    "        outputfolder = 'Embeddings/Shuffling/' + gtype + '/'\n",
    "        pathlib.Path(outputfolder).mkdir(exist_ok = True) \n",
    "\n",
    "        np.savetxt(outputfolder + graph.split('.')[0] + '.dat', X)\n",
    "\n",
    "    # free up space\n",
    "    del X\n",
    "\n",
    "    return"
   ]
  },
  {
   "cell_type": "code",
   "execution_count": 6,
   "id": "0213bc31",
   "metadata": {
    "scrolled": false
   },
   "outputs": [
    {
     "name": "stderr",
     "output_type": "stream",
     "text": [
      "[Parallel(n_jobs=8)]: Using backend LokyBackend with 8 concurrent workers.\n",
      "[Parallel(n_jobs=8)]: Done   2 tasks      | elapsed:  9.9min\n",
      "[Parallel(n_jobs=8)]: Done  25 tasks      | elapsed: 78.6min\n",
      "[Parallel(n_jobs=8)]: Done  46 out of  54 | elapsed: 116.6min remaining: 20.3min\n",
      "[Parallel(n_jobs=8)]: Done  54 out of  54 | elapsed: 149.8min finished\n"
     ]
    }
   ],
   "source": [
    "directory = 'Shuffled/'\n",
    "all_gtype = listdir(directory)\n",
    "\n",
    "Pl = Parallel(n_jobs = 8, verbose = 8)    \n",
    "_ = Pl(delayed(GetEmbeddingPerType)(gtype, directory) for gtype in all_gtype)"
   ]
  },
  {
   "cell_type": "code",
   "execution_count": null,
   "id": "63001c81",
   "metadata": {},
   "outputs": [],
   "source": []
  }
 ],
 "metadata": {
  "kernelspec": {
   "display_name": "Python 3 (ipykernel)",
   "language": "python",
   "name": "python3"
  },
  "language_info": {
   "codemirror_mode": {
    "name": "ipython",
    "version": 3
   },
   "file_extension": ".py",
   "mimetype": "text/x-python",
   "name": "python",
   "nbconvert_exporter": "python",
   "pygments_lexer": "ipython3",
   "version": "3.9.7"
  },
  "vscode": {
   "interpreter": {
    "hash": "916dbcbb3f70747c44a77c7bcd40155683ae19c65e1c03b4aa3499c5328201f1"
   }
  }
 },
 "nbformat": 4,
 "nbformat_minor": 5
}
